{
 "cells": [
  {
   "cell_type": "code",
   "execution_count": 1,
   "metadata": {
    "colab": {
     "base_uri": "https://localhost:8080/",
     "height": 292
    },
    "colab_type": "code",
    "id": "36p8DSfO100T",
    "outputId": "e06ff593-1f9b-4c0e-adf5-d260df5023ab"
   },
   "outputs": [
    {
     "name": "stdout",
     "output_type": "stream",
     "text": [
      "Collecting networkx\n",
      "\u001b[?25l  Downloading https://files.pythonhosted.org/packages/f3/f4/7e20ef40b118478191cec0b58c3192f822cace858c19505c7670961b76b2/networkx-2.2.zip (1.7MB)\n",
      "\u001b[K    100% |████████████████████████████████| 1.7MB 10.1MB/s ta 0:00:01\n",
      "\u001b[?25hRequirement already satisfied: decorator>=4.3.0 in /Users/alexyoo/anaconda/envs/py362/lib/python3.6/site-packages (from networkx) (4.3.0)\n",
      "Building wheels for collected packages: networkx\n",
      "  Running setup.py bdist_wheel for networkx ... \u001b[?25ldone\n",
      "\u001b[?25h  Stored in directory: /Users/alexyoo/Library/Caches/pip/wheels/68/f8/29/b53346a112a07d30a5a84d53f19aeadaa1a474897c0423af91\n",
      "Successfully built networkx\n",
      "Installing collected packages: networkx\n",
      "Successfully installed networkx-2.2\n",
      "\u001b[33mYou are using pip version 10.0.1, however version 18.1 is available.\n",
      "You should consider upgrading via the 'pip install --upgrade pip' command.\u001b[0m\n",
      "Collecting rdflib\n",
      "\u001b[?25l  Downloading https://files.pythonhosted.org/packages/3c/fe/630bacb652680f6d481b9febbb3e2c3869194a1a5fc3401a4a41195a2f8f/rdflib-4.2.2-py3-none-any.whl (344kB)\n",
      "\u001b[K    100% |████████████████████████████████| 348kB 9.6MB/s eta 0:00:01\n",
      "\u001b[?25hCollecting isodate (from rdflib)\n",
      "\u001b[?25l  Downloading https://files.pythonhosted.org/packages/9b/9f/b36f7774ff5ea8e428fdcfc4bb332c39ee5b9362ddd3d40d9516a55221b2/isodate-0.6.0-py2.py3-none-any.whl (45kB)\n",
      "\u001b[K    100% |████████████████████████████████| 51kB 15.5MB/s ta 0:00:01\n",
      "\u001b[?25hRequirement already satisfied: pyparsing in /Users/alexyoo/anaconda/envs/py362/lib/python3.6/site-packages (from rdflib) (2.2.0)\n",
      "Requirement already satisfied: six in /Users/alexyoo/anaconda/envs/py362/lib/python3.6/site-packages (from isodate->rdflib) (1.11.0)\n",
      "Installing collected packages: isodate, rdflib\n",
      "Successfully installed isodate-0.6.0 rdflib-4.2.2\n",
      "\u001b[33mYou are using pip version 10.0.1, however version 18.1 is available.\n",
      "You should consider upgrading via the 'pip install --upgrade pip' command.\u001b[0m\n",
      "Requirement already satisfied: numpy in /Users/alexyoo/anaconda/envs/py362/lib/python3.6/site-packages (1.14.3)\n",
      "\u001b[33mYou are using pip version 10.0.1, however version 18.1 is available.\n",
      "You should consider upgrading via the 'pip install --upgrade pip' command.\u001b[0m\n",
      "Collecting sparqlwrapper\n",
      "  Downloading https://files.pythonhosted.org/packages/7f/c3/72d2d0a2ad86bd8d2bc762406c838f479c421678161cf78585d085436919/SPARQLWrapper-1.8.2-py3-none-any.whl\n",
      "Requirement already satisfied: rdflib>=4.0 in /Users/alexyoo/anaconda/envs/py362/lib/python3.6/site-packages (from sparqlwrapper) (4.2.2)\n",
      "Requirement already satisfied: isodate in /Users/alexyoo/anaconda/envs/py362/lib/python3.6/site-packages (from rdflib>=4.0->sparqlwrapper) (0.6.0)\n",
      "Requirement already satisfied: pyparsing in /Users/alexyoo/anaconda/envs/py362/lib/python3.6/site-packages (from rdflib>=4.0->sparqlwrapper) (2.2.0)\n",
      "Requirement already satisfied: six in /Users/alexyoo/anaconda/envs/py362/lib/python3.6/site-packages (from isodate->rdflib>=4.0->sparqlwrapper) (1.11.0)\n",
      "Installing collected packages: sparqlwrapper\n",
      "Successfully installed sparqlwrapper-1.8.2\n",
      "\u001b[33mYou are using pip version 10.0.1, however version 18.1 is available.\n",
      "You should consider upgrading via the 'pip install --upgrade pip' command.\u001b[0m\n"
     ]
    }
   ],
   "source": [
    "!pip install networkx\n",
    "!pip install rdflib\n",
    "!pip install numpy\n",
    "!pip install sparqlwrapper"
   ]
  },
  {
   "cell_type": "code",
   "execution_count": 2,
   "metadata": {
    "colab": {},
    "colab_type": "code",
    "id": "1VvYZ1WNUfib"
   },
   "outputs": [],
   "source": [
    "import rdflib\n",
    "import numpy as np\n",
    "from collections import Counter\n",
    "from SPARQLWrapper import SPARQLWrapper, JSON\n",
    "import networkx as nx\n",
    "import requests"
   ]
  },
  {
   "cell_type": "code",
   "execution_count": 3,
   "metadata": {},
   "outputs": [],
   "source": [
    "def query_wiki_article_title(query):\n",
    "    params = {\n",
    "    'action':\"query\",\n",
    "    'list':\"search\",\n",
    "    'srsearch': query,\n",
    "    'format':\"json\"\n",
    "    }\n",
    "    resp = requests.get(\"https://en.wikipedia.org/w/api.php\", params)\n",
    "    if resp.status_code != 200:\n",
    "        return None\n",
    "    results = resp.json()\n",
    "    if len(results):\n",
    "        return results['query']['search'][0]['title'].replace(\" \", \"_\")"
   ]
  },
  {
   "cell_type": "code",
   "execution_count": 4,
   "metadata": {
    "colab": {},
    "colab_type": "code",
    "id": "wT1sBX8dUfif"
   },
   "outputs": [],
   "source": [
    "def get_link_set(article_link):\n",
    "    q =\"\"\"PREFIX p: <http://www.wikidata.org/prop/>\n",
    "    SELECT DISTINCT ?thing ?relation\n",
    "    WHERE { ?thing ?relation <\"\"\"+ article_link +\"\"\"> . }\n",
    "    LIMIT 10\"\"\"\n",
    "    sparql = SPARQLWrapper(\"http://dbpedia.org/sparql\")\n",
    "    sparql.setReturnFormat(JSON)\n",
    "    sparql.setQuery(q)  # the previous query as a literal string\n",
    "    json = sparql.query().convert()\n",
    "    links = json[\"results\"][\"bindings\"]\n",
    "    return set([obj[\"thing\"][\"value\"] for obj in links]) "
   ]
  },
  {
   "cell_type": "code",
   "execution_count": 5,
   "metadata": {},
   "outputs": [],
   "source": [
    "def get_link_set_outlinks(article_link):\n",
    "    q =\"\"\"PREFIX dbr: <http://dbpedia.org/resource/>\n",
    "    PREFIX owl: <http://www.w3.org/2002/07/owl#>\n",
    "    SELECT DISTINCT ?p ?o\n",
    "    WHERE {\n",
    "    <\"\"\" + article_link + \"\"\"> ?p ?o . \n",
    "    ?o a owl:Thing . \n",
    "    }\n",
    "    LIMIT 10\"\"\"\n",
    "    sparql = SPARQLWrapper(\"http://dbpedia.org/sparql\")\n",
    "    sparql.setReturnFormat(JSON)\n",
    "    sparql.setQuery(q)  # the previous query as a literal string\n",
    "    json = sparql.query().convert()\n",
    "    links = json[\"results\"][\"bindings\"]\n",
    "    return set([obj[\"o\"][\"value\"] for obj in links]) "
   ]
  },
  {
   "cell_type": "code",
   "execution_count": 6,
   "metadata": {},
   "outputs": [],
   "source": [
    "def create_graph(raw_titles, get_link_set_fn):\n",
    "    G = nx.Graph()\n",
    "    for cand in raw_titles:\n",
    "        formatted_cand = query_wiki_article_title(cand)\n",
    "        candlink = \"http://dbpedia.org/resource/\" + formatted_cand\n",
    "        G.add_node(candlink)\n",
    "        linkSet = get_link_set_fn(candlink)\n",
    "        for link in linkSet:\n",
    "            G.add_node(link)\n",
    "            # Explore 1x time\n",
    "            deg2linkSet = get_link_set_fn(link)\n",
    "            for link2 in deg2linkSet:\n",
    "                G.add_node(link2)\n",
    "                G.add_edge(link, link2)\n",
    "            # Create edges to links\n",
    "            G.add_edge(candlink, link)\n",
    "    return G"
   ]
  },
  {
   "cell_type": "code",
   "execution_count": 16,
   "metadata": {},
   "outputs": [],
   "source": [
    "def generate_graph_pickles(output_candidates_fname=\"output_candidates\"):\n",
    "    with open(output_candidates_fname) as f:\n",
    "        contents = f.readlines()\n",
    "        contents = [x.strip() for x in contents] \n",
    "        for i, titles in enumerate(contents):\n",
    "            print (\"creating topic \" + str(i) + \" pickle file\")\n",
    "            G = create_graph(titles.split(), get_link_set)\n",
    "            fname = \"Topics/topic\" +str(i)+ \"G\"\n",
    "            nx.write_gml(G, fname)\n",
    "        f.close()"
   ]
  },
  {
   "cell_type": "code",
   "execution_count": 48,
   "metadata": {},
   "outputs": [],
   "source": [
    "def extract_ranked_cands(seed_cands, top_links):\n",
    "    \"\"\"\n",
    "    Extract the generated candidates' rank out from the raw order after\n",
    "    DBpedia exploration.\n",
    "\n",
    "    :param seed_cands: list of generated candidates\n",
    "    :param top_links: list of (link, score) tuples \n",
    "    \"\"\"\n",
    "    cand_pool = set(seed_cands)\n",
    "    print (cand_pool)\n",
    "    top_cands = []\n",
    "    for raw_link, _ in top_links:\n",
    "        last_sep = raw_link.rfind(\"/\")\n",
    "        raw_title = raw_link[last_sep + 1:]\n",
    "        title = raw_title.lower()        \n",
    "        if title in cand_pool:\n",
    "            top_cands.append(title)\n",
    "    return top_cands"
   ]
  },
  {
   "cell_type": "code",
   "execution_count": 49,
   "metadata": {},
   "outputs": [],
   "source": [
    "def get_best_label(label_list,num):\n",
    "    fname = \"Topics/topic\" +str(num)+ \"G\"\n",
    "    G = nx.read_gml(fname)\n",
    "    Gc = max(nx.connected_component_subgraphs(G), key=len)\n",
    "    \n",
    "    centrality_measure = nx.betweenness_centrality(Gc)\n",
    "    top_links = sorted(centrality_measure.items(), key=lambda x: x[1], reverse=True)\n",
    "    cands_ranks = extract_ranked_cands(label_list, top_links)\n",
    "    return cands_ranks"
   ]
  },
  {
   "cell_type": "code",
   "execution_count": 50,
   "metadata": {},
   "outputs": [
    {
     "name": "stdout",
     "output_type": "stream",
     "text": [
      "{'oracle_database', 'microsoft_exchange_server', 'sun_microsystems', 'web_application', 'postgresql', 'virtualization', 'operating_system', 'hypervisor', 'sharepoint', 'windows_server_2003', 'windows_2000', 'cloud_computing', 'hyper-v', 'windows_server_2008', 'vmware', 'application_server', 'netware', 'desktop_virtualization', 'microsoft_sql_server'}\n"
     ]
    },
    {
     "data": {
      "text/plain": [
       "['vmware',\n",
       " 'sharepoint',\n",
       " 'windows_2000',\n",
       " 'oracle_database',\n",
       " 'hyper-v',\n",
       " 'virtualization',\n",
       " 'postgresql',\n",
       " 'cloud_computing',\n",
       " 'hypervisor',\n",
       " 'sun_microsystems',\n",
       " 'microsoft_exchange_server',\n",
       " 'microsoft_sql_server',\n",
       " 'windows_server_2008',\n",
       " 'netware',\n",
       " 'windows_server_2003',\n",
       " 'application_server',\n",
       " 'web_application',\n",
       " 'operating_system',\n",
       " 'desktop_virtualization']"
      ]
     },
     "execution_count": 50,
     "metadata": {},
     "output_type": "execute_result"
    }
   ],
   "source": [
    "get_best_label(d[0],0)"
   ]
  },
  {
   "cell_type": "code",
   "execution_count": 10,
   "metadata": {},
   "outputs": [],
   "source": [
    "mygraph = nx.read_gml(\"Topics/topic0G\")"
   ]
  },
  {
   "cell_type": "code",
   "execution_count": 12,
   "metadata": {},
   "outputs": [],
   "source": [
    "Gc = max(nx.connected_component_subgraphs(mygraph), key=len)"
   ]
  },
  {
   "cell_type": "code",
   "execution_count": 13,
   "metadata": {},
   "outputs": [],
   "source": [
    "clo_gen = nx.betweenness_centrality(Gc)"
   ]
  },
  {
   "cell_type": "code",
   "execution_count": 14,
   "metadata": {},
   "outputs": [
    {
     "data": {
      "text/plain": [
       "[('http://dbpedia.org/resource/Quest_Software', 0.16633517915829701),\n",
       " ('http://dbpedia.org/resource/History_of_operating_systems',\n",
       "  0.1103421187817401),\n",
       " ('http://dbpedia.org/resource/VMware', 0.10076071149512589),\n",
       " ('http://dbpedia.org/resource/SharePoint', 0.09884272261551647),\n",
       " ('http://dbpedia.org/resource/Windows_2000', 0.0936466166606129),\n",
       " ('http://dbpedia.org/resource/Oracle_Database', 0.09075914437434665),\n",
       " ('http://dbpedia.org/resource/Batch_processing', 0.08844876038028432),\n",
       " ('http://dbpedia.org/resource/Hyper-V', 0.08765223583792187),\n",
       " ('http://dbpedia.org/resource/Virtualization', 0.08568079725357391),\n",
       " ('http://dbpedia.org/resource/PostgreSQL', 0.08538075306424328),\n",
       " ('http://dbpedia.org/resource/Cloud_computing', 0.08347109933432417),\n",
       " ('http://dbpedia.org/resource/Hypervisor', 0.08019741316299675),\n",
       " ('http://dbpedia.org/resource/List_of_computing_and_IT_abbreviations',\n",
       "  0.07717333723838925),\n",
       " ('http://dbpedia.org/resource/Sun_Microsystems', 0.07377822512217176),\n",
       " ('http://dbpedia.org/resource/Microsoft_Exchange_Server',\n",
       "  0.07352833645414611),\n",
       " ('http://dbpedia.org/resource/Microsoft_SQL_Server', 0.07027323964359984),\n",
       " ('http://dbpedia.org/resource/Windows_Server_2008', 0.06962309922227265),\n",
       " ('http://dbpedia.org/resource/SQL', 0.06783822370647499),\n",
       " ('http://dbpedia.org/resource/NetWare', 0.061710777908824885),\n",
       " ('http://dbpedia.org/resource/Windows_Server_2003', 0.059539443084795154)]"
      ]
     },
     "execution_count": 14,
     "metadata": {},
     "output_type": "execute_result"
    }
   ],
   "source": [
    "sorted(clo_gen.items(), key=lambda x: x[1], reverse=True)[:20]"
   ]
  },
  {
   "cell_type": "code",
   "execution_count": null,
   "metadata": {},
   "outputs": [],
   "source": []
  }
 ],
 "metadata": {
  "colab": {
   "collapsed_sections": [],
   "name": "DBpedia experiment.ipynb",
   "provenance": [],
   "version": "0.3.2"
  },
  "kernelspec": {
   "display_name": "py362",
   "language": "python",
   "name": "py362"
  },
  "language_info": {
   "codemirror_mode": {
    "name": "ipython",
    "version": 3
   },
   "file_extension": ".py",
   "mimetype": "text/x-python",
   "name": "python",
   "nbconvert_exporter": "python",
   "pygments_lexer": "ipython3",
   "version": "3.6.2"
  }
 },
 "nbformat": 4,
 "nbformat_minor": 1
}
